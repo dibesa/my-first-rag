{
 "cells": [
  {
   "cell_type": "code",
   "execution_count": 1,
   "id": "e4d80e07-2421-49bb-83e0-4561697818f6",
   "metadata": {},
   "outputs": [],
   "source": [
    "from vectorial_database import VectorDDBB"
   ]
  },
  {
   "cell_type": "code",
   "execution_count": 2,
   "id": "a6221a8e-bfc7-4151-89df-493f6d143c42",
   "metadata": {},
   "outputs": [
    {
     "name": "stdout",
     "output_type": "stream",
     "text": [
      "35\n"
     ]
    }
   ],
   "source": [
    "# Create instance\n",
    "vector_db = VectorDDBB()\n",
    "\n",
    "# Load document and create embeddings\n",
    "vector_db.load_document_from_path(\"./ai-engineer-evaluation-test.md\")\n",
    "\n",
    "# Print number of embeddings\n",
    "vector_db.print_number_of_embeddings()"
   ]
  },
  {
   "cell_type": "code",
   "execution_count": 3,
   "id": "a9709ba6-b1ae-4f87-8364-acbe5c1ea530",
   "metadata": {},
   "outputs": [
    {
     "name": "stdout",
     "output_type": "stream",
     "text": [
      "# 3.3. Busca el apartado más parecido\n",
      "Adicionalmente a lo anterior haz que en tu programa se muestre el chunk que mas se parece a la frase:\n",
      "> Darle funcionalidad a la base de datos\n",
      "\n",
      "Ejemplo de parte del main:\n",
      "```python\n",
      "    nearest_chunk = vector_db.nearest_chunks(\"Darle funcionalidad a la base de datos\")[0]\n",
      "    print(nearest_chunk)\n",
      "```\n",
      "\n",
      "\n"
     ]
    }
   ],
   "source": [
    "nearest_chunk = vector_db.nearest_chunks(\"Darle funcionalidad a la base de datos\")[0]\n",
    "print(nearest_chunk)"
   ]
  },
  {
   "cell_type": "code",
   "execution_count": null,
   "id": "62586721-8240-4fce-94e0-379c424a9d89",
   "metadata": {},
   "outputs": [],
   "source": [
    "    "
   ]
  }
 ],
 "metadata": {
  "kernelspec": {
   "display_name": "Python 3 (ipykernel)",
   "language": "python",
   "name": "python3"
  },
  "language_info": {
   "codemirror_mode": {
    "name": "ipython",
    "version": 3
   },
   "file_extension": ".py",
   "mimetype": "text/x-python",
   "name": "python",
   "nbconvert_exporter": "python",
   "pygments_lexer": "ipython3",
   "version": "3.13.5"
  }
 },
 "nbformat": 4,
 "nbformat_minor": 5
}
