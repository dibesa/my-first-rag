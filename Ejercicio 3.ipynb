{
 "cells": [
  {
   "cell_type": "code",
   "execution_count": 1,
   "id": "e4d80e07-2421-49bb-83e0-4561697818f6",
   "metadata": {},
   "outputs": [
    {
     "ename": "NameError",
     "evalue": "name 'Path' is not defined",
     "output_type": "error",
     "traceback": [
      "\u001b[31m---------------------------------------------------------------------------\u001b[39m",
      "\u001b[31mNameError\u001b[39m                                 Traceback (most recent call last)",
      "\u001b[36mCell\u001b[39m\u001b[36m \u001b[39m\u001b[32mIn[1]\u001b[39m\u001b[32m, line 1\u001b[39m\n\u001b[32m----> \u001b[39m\u001b[32m1\u001b[39m \u001b[38;5;28;01mfrom\u001b[39;00m\u001b[38;5;250m \u001b[39m\u001b[34;01mvectorial_database\u001b[39;00m\u001b[38;5;250m \u001b[39m\u001b[38;5;28;01mimport\u001b[39;00m VectorDDBB\n",
      "\u001b[36mFile \u001b[39m\u001b[32m~/Documents/Orange/my-first-rag/vectorial_database.py:6\u001b[39m\n\u001b[32m      3\u001b[39m \u001b[38;5;28;01mimport\u001b[39;00m\u001b[38;5;250m \u001b[39m\u001b[34;01mos\u001b[39;00m\n\u001b[32m      4\u001b[39m \u001b[38;5;28;01mfrom\u001b[39;00m\u001b[38;5;250m \u001b[39m\u001b[34;01mabc\u001b[39;00m\u001b[38;5;250m \u001b[39m\u001b[38;5;28;01mimport\u001b[39;00m ABC, abstractmethod\n\u001b[32m----> \u001b[39m\u001b[32m6\u001b[39m \u001b[38;5;28;01mclass\u001b[39;00m\u001b[38;5;250m \u001b[39m\u001b[34;01mVectorDatabaseInterface\u001b[39;00m(ABC):\n\u001b[32m      7\u001b[39m \u001b[38;5;250m    \u001b[39m\u001b[33;03m\"\"\"\u001b[39;00m\n\u001b[32m      8\u001b[39m \u001b[33;03m    Abstract interface for vector database implementations.\u001b[39;00m\n\u001b[32m      9\u001b[39m \u001b[33;03m    \u001b[39;00m\n\u001b[32m   (...)\u001b[39m\u001b[32m     15\u001b[39m \u001b[33;03m            - self.chunks: List for storing text chunks\u001b[39;00m\n\u001b[32m     16\u001b[39m \u001b[33;03m    \"\"\"\u001b[39;00m\n\u001b[32m     18\u001b[39m     \u001b[38;5;129m@abstractmethod\u001b[39m\n\u001b[32m     19\u001b[39m     \u001b[38;5;28;01mdef\u001b[39;00m\u001b[38;5;250m \u001b[39m\u001b[34mload_document\u001b[39m(\u001b[38;5;28mself\u001b[39m, markdown_text: \u001b[38;5;28mstr\u001b[39m) -> \u001b[38;5;28;01mNone\u001b[39;00m:\n",
      "\u001b[36mFile \u001b[39m\u001b[32m~/Documents/Orange/my-first-rag/vectorial_database.py:29\u001b[39m, in \u001b[36mVectorDatabaseInterface\u001b[39m\u001b[34m()\u001b[39m\n\u001b[32m     25\u001b[39m \u001b[38;5;250m    \u001b[39m\u001b[33;03m\"\"\"Print the number of stored embeddings.\"\"\"\u001b[39;00m\n\u001b[32m     26\u001b[39m     \u001b[38;5;28;01mpass\u001b[39;00m\n\u001b[32m     28\u001b[39m \u001b[38;5;129m@abstractmethod\u001b[39m\n\u001b[32m---> \u001b[39m\u001b[32m29\u001b[39m \u001b[38;5;28;01mdef\u001b[39;00m\u001b[38;5;250m \u001b[39m\u001b[34mload_document_from_path\u001b[39m(\u001b[38;5;28mself\u001b[39m, markdown_path: Path) -> \u001b[38;5;28;01mNone\u001b[39;00m:\n\u001b[32m     30\u001b[39m \u001b[38;5;250m    \u001b[39m\u001b[33;03m\"\"\"Load and process a document into embeddings.\"\"\"\u001b[39;00m\n\u001b[32m     31\u001b[39m     \u001b[38;5;28;01mpass\u001b[39;00m\n",
      "\u001b[31mNameError\u001b[39m: name 'Path' is not defined"
     ]
    }
   ],
   "source": [
    "from vectorial_database import VectorDDBB"
   ]
  },
  {
   "cell_type": "code",
   "execution_count": 2,
   "id": "a6221a8e-bfc7-4151-89df-493f6d143c42",
   "metadata": {},
   "outputs": [
    {
     "ename": "NameError",
     "evalue": "name 'VectorDDBB' is not defined",
     "output_type": "error",
     "traceback": [
      "\u001b[31m---------------------------------------------------------------------------\u001b[39m",
      "\u001b[31mNameError\u001b[39m                                 Traceback (most recent call last)",
      "\u001b[36mCell\u001b[39m\u001b[36m \u001b[39m\u001b[32mIn[2]\u001b[39m\u001b[32m, line 2\u001b[39m\n\u001b[32m      1\u001b[39m \u001b[38;5;66;03m# Create instance\u001b[39;00m\n\u001b[32m----> \u001b[39m\u001b[32m2\u001b[39m vector_db = VectorDDBB()\n\u001b[32m      4\u001b[39m \u001b[38;5;66;03m# Load document and create embeddings\u001b[39;00m\n\u001b[32m      5\u001b[39m vector_db.load_document_from_path(\u001b[33m\"\u001b[39m\u001b[33m../ai-engineer-evaluation-test.md\u001b[39m\u001b[33m\"\u001b[39m)\n",
      "\u001b[31mNameError\u001b[39m: name 'VectorDDBB' is not defined"
     ]
    }
   ],
   "source": [
    "# Create instance\n",
    "vector_db = VectorDDBB()\n",
    "\n",
    "# Load document and create embeddings\n",
    "vector_db.load_document_from_path(\"./ai-engineer-evaluation-test.md\")\n",
    "\n",
    "# Print number of embeddings\n",
    "vector_db.print_number_of_embeddings()"
   ]
  },
  {
   "cell_type": "code",
   "execution_count": null,
   "id": "81fd1f0e-b605-4982-bc1a-8195c0152348",
   "metadata": {},
   "outputs": [],
   "source": []
  }
 ],
 "metadata": {
  "kernelspec": {
   "display_name": "Python 3 (ipykernel)",
   "language": "python",
   "name": "python3"
  },
  "language_info": {
   "codemirror_mode": {
    "name": "ipython",
    "version": 3
   },
   "file_extension": ".py",
   "mimetype": "text/x-python",
   "name": "python",
   "nbconvert_exporter": "python",
   "pygments_lexer": "ipython3",
   "version": "3.13.5"
  }
 },
 "nbformat": 4,
 "nbformat_minor": 5
}
