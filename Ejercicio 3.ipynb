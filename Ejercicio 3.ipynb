{
 "cells": [
  {
   "cell_type": "code",
   "execution_count": 1,
   "id": "e4d80e07-2421-49bb-83e0-4561697818f6",
   "metadata": {},
   "outputs": [],
   "source": [
    "from vectorial_database import VectorDDBB"
   ]
  },
  {
   "cell_type": "code",
   "execution_count": 2,
   "id": "a6221a8e-bfc7-4151-89df-493f6d143c42",
   "metadata": {},
   "outputs": [
    {
     "name": "stdout",
     "output_type": "stream",
     "text": [
      "35\n"
     ]
    }
   ],
   "source": [
    "# Create instance\n",
    "vector_db = VectorDDBB()\n",
    "\n",
    "# Load document and create embeddings\n",
    "vector_db.load_document_from_path(\"./ai-engineer-evaluation-test.md\")\n",
    "\n",
    "# Print number of embeddings\n",
    "vector_db.print_number_of_embeddings()"
   ]
  },
  {
   "cell_type": "code",
   "execution_count": 3,
   "id": "a9709ba6-b1ae-4f87-8364-acbe5c1ea530",
   "metadata": {},
   "outputs": [
    {
     "ename": "NameError",
     "evalue": "name 's' is not defined",
     "output_type": "error",
     "traceback": [
      "\u001b[31m---------------------------------------------------------------------------\u001b[39m",
      "\u001b[31mNameError\u001b[39m                                 Traceback (most recent call last)",
      "\u001b[36mCell\u001b[39m\u001b[36m \u001b[39m\u001b[32mIn[3]\u001b[39m\u001b[32m, line 1\u001b[39m\n\u001b[32m----> \u001b[39m\u001b[32m1\u001b[39m nearest_chunk = vector_db.nearest_chunks(\u001b[33m\"\u001b[39m\u001b[33mDarle funcionalidad a la base de datos\u001b[39m\u001b[33m\"\u001b[39m)[\u001b[32m0\u001b[39m]\n\u001b[32m      2\u001b[39m \u001b[38;5;28mprint\u001b[39m(nearest_chunk)\n",
      "\u001b[36mFile \u001b[39m\u001b[32m~/Documents/Orange/my-first-rag/vectorial_database.py:91\u001b[39m, in \u001b[36mVectorDDBB.nearest_chunks\u001b[39m\u001b[34m(self, text)\u001b[39m\n\u001b[32m     86\u001b[39m response = \u001b[38;5;28mself\u001b[39m.client.embeddings.create(\n\u001b[32m     87\u001b[39m     model=\u001b[33m\"\u001b[39m\u001b[33mopenai/text-embedding-3-small\u001b[39m\u001b[33m\"\u001b[39m,\n\u001b[32m     88\u001b[39m     \u001b[38;5;28minput\u001b[39m=text\n\u001b[32m     89\u001b[39m )\n\u001b[32m     90\u001b[39m embedding = response.data[\u001b[32m0\u001b[39m].embedding\n\u001b[32m---> \u001b[39m\u001b[32m91\u001b[39m \u001b[38;5;28;01mreturn\u001b[39;00m \u001b[38;5;28mself\u001b[39m._nearest_chunks(embedding)\n",
      "\u001b[36mFile \u001b[39m\u001b[32m~/Documents/Orange/my-first-rag/vectorial_database.py:76\u001b[39m, in \u001b[36mVectorDDBB._nearest_chunks\u001b[39m\u001b[34m(self, embedding, top_n)\u001b[39m\n\u001b[32m     73\u001b[39m     similarities.append((dot_product, i))\n\u001b[32m     75\u001b[39m similarities.sort(reverse=\u001b[38;5;28;01mTrue\u001b[39;00m, key=\u001b[38;5;28;01mlambda\u001b[39;00m x: x[\u001b[32m0\u001b[39m])\n\u001b[32m---> \u001b[39m\u001b[32m76\u001b[39m s\n\u001b[32m     77\u001b[39m \u001b[38;5;28;01mreturn\u001b[39;00m [\u001b[38;5;28mself\u001b[39m.chunks[i] \u001b[38;5;28;01mfor\u001b[39;00m _, i \u001b[38;5;129;01min\u001b[39;00m similarities[:top_n]]\n",
      "\u001b[31mNameError\u001b[39m: name 's' is not defined"
     ]
    }
   ],
   "source": [
    "nearest_chunk = vector_db.nearest_chunks(\"Darle funcionalidad a la base de datos\")[0]\n",
    "print(nearest_chunk)"
   ]
  },
  {
   "cell_type": "code",
   "execution_count": null,
   "id": "62586721-8240-4fce-94e0-379c424a9d89",
   "metadata": {},
   "outputs": [],
   "source": [
    "    "
   ]
  }
 ],
 "metadata": {
  "kernelspec": {
   "display_name": "Python 3 (ipykernel)",
   "language": "python",
   "name": "python3"
  },
  "language_info": {
   "codemirror_mode": {
    "name": "ipython",
    "version": 3
   },
   "file_extension": ".py",
   "mimetype": "text/x-python",
   "name": "python",
   "nbconvert_exporter": "python",
   "pygments_lexer": "ipython3",
   "version": "3.13.5"
  }
 },
 "nbformat": 4,
 "nbformat_minor": 5
}
