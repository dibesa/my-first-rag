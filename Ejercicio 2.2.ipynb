{
 "cells": [
  {
   "cell_type": "code",
   "execution_count": 1,
   "id": "95916174-5789-4e10-84ea-ef3c5ea16bc1",
   "metadata": {},
   "outputs": [],
   "source": [
    "from vectorial_database import VectorDDBB"
   ]
  },
  {
   "cell_type": "code",
   "execution_count": 2,
   "id": "13ded0a4-271e-49a3-98db-d834adb7fe56",
   "metadata": {},
   "outputs": [
    {
     "name": "stdout",
     "output_type": "stream",
     "text": [
      "4\n"
     ]
    }
   ],
   "source": [
    "vector_db = VectorDDBB()\n",
    "\n",
    "sample_markdown = \"\"\"\n",
    "# Introduction\n",
    "This is the introduction section.\n",
    "\n",
    "## First Section\n",
    "This is the first section with some content.\n",
    "\n",
    "## Second Section\n",
    "This is the second section with different content.\n",
    "\n",
    "## Third Section\n",
    "And this is the third section.\n",
    "\"\"\"\n",
    "\n",
    "# Load document and create embeddings\n",
    "vector_db.load_document(sample_markdown)\n",
    "\n",
    "# Print number of embeddings\n",
    "vector_db.print_number_of_embeddings()\n",
    "# Output: 4"
   ]
  },
  {
   "cell_type": "code",
   "execution_count": null,
   "id": "4c31f80d-8338-4313-887d-175b75c1581c",
   "metadata": {},
   "outputs": [],
   "source": []
  }
 ],
 "metadata": {
  "kernelspec": {
   "display_name": "Python 3 (ipykernel)",
   "language": "python",
   "name": "python3"
  },
  "language_info": {
   "codemirror_mode": {
    "name": "ipython",
    "version": 3
   },
   "file_extension": ".py",
   "mimetype": "text/x-python",
   "name": "python",
   "nbconvert_exporter": "python",
   "pygments_lexer": "ipython3",
   "version": "3.13.5"
  }
 },
 "nbformat": 4,
 "nbformat_minor": 5
}
