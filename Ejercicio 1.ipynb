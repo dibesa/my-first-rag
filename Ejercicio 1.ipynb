{
 "cells": [
  {
   "cell_type": "code",
   "execution_count": 1,
   "id": "19a96f72-3689-4faa-b226-56f27ddcfb79",
   "metadata": {},
   "outputs": [],
   "source": [
    "import openai\n",
    "from dotenv import load_dotenv\n",
    "import os"
   ]
  },
  {
   "cell_type": "code",
   "execution_count": 2,
   "id": "623922d4-80b3-4ebd-8cb6-228fd9cfe389",
   "metadata": {},
   "outputs": [
    {
     "data": {
      "text/plain": [
       "True"
      ]
     },
     "execution_count": 2,
     "metadata": {},
     "output_type": "execute_result"
    }
   ],
   "source": [
    "# Load environment variables from the .env file\n",
    "load_dotenv()"
   ]
  },
  {
   "cell_type": "code",
   "execution_count": 3,
   "id": "839a2b41-7db6-49f4-bcd3-a1fd5ab56f8f",
   "metadata": {},
   "outputs": [],
   "source": [
    "api_key = os.getenv(\"API_KEY\")"
   ]
  },
  {
   "cell_type": "code",
   "execution_count": 5,
   "id": "81810061-694d-4a50-b50c-7d5fb5fbabc7",
   "metadata": {},
   "outputs": [],
   "source": [
    "client = openai.OpenAI(\n",
    "    api_key=api_key,\n",
    "    base_url=\"https://llmproxy.ai.orange\"\n",
    ")"
   ]
  },
  {
   "cell_type": "code",
   "execution_count": 6,
   "id": "d8324b96-ac1c-4ce4-8dd7-8b8b24ab83a3",
   "metadata": {},
   "outputs": [],
   "source": [
    "user_input = \"¿Cuantas 'a' tiene la palabra MasOrange?\""
   ]
  },
  {
   "cell_type": "code",
   "execution_count": 9,
   "id": "445e92d2-7cd0-4971-b32b-495f544b64fd",
   "metadata": {},
   "outputs": [],
   "source": [
    "response = client.chat.completions.create(\n",
    "    model=\"openai/gpt-4.1-nano\",\n",
    "    messages=[\n",
    "        {\"role\": \"user\", \"content\": \"Hola\"},\n",
    "        {\"role\": \"user\", \"content\": user_input}\n",
    "    ]\n",
    ")"
   ]
  },
  {
   "cell_type": "code",
   "execution_count": 13,
   "id": "f82a82b9-04c9-4818-8bf6-418b3abcc33a",
   "metadata": {},
   "outputs": [
    {
     "data": {
      "text/plain": [
       "'La palabra \"MasOrange\" tiene dos letras \"a\".'"
      ]
     },
     "execution_count": 13,
     "metadata": {},
     "output_type": "execute_result"
    }
   ],
   "source": [
    "response.choices[0].message.content"
   ]
  }
 ],
 "metadata": {
  "kernelspec": {
   "display_name": "Python 3 (ipykernel)",
   "language": "python",
   "name": "python3"
  },
  "language_info": {
   "codemirror_mode": {
    "name": "ipython",
    "version": 3
   },
   "file_extension": ".py",
   "mimetype": "text/x-python",
   "name": "python",
   "nbconvert_exporter": "python",
   "pygments_lexer": "ipython3",
   "version": "3.13.5"
  }
 },
 "nbformat": 4,
 "nbformat_minor": 5
}
